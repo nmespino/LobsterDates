{
 "cells": [
  {
   "cell_type": "markdown",
   "metadata": {},
   "source": [
    "# The first cell below includes a class, conditionals, and functions. The first class includes instances inside that have specific requirements for each person speaking in the dating app. It includes a greet, age, and a height. The first conditional must have a requirement met, in this case it must meet the string 'Fun' and therefore, choose the appropriate output. The rest of the code includes requirements that must be met in order to porduce the apporpriate output that continues the conversation."
   ]
  },
  {
   "cell_type": "code",
   "execution_count": null,
   "metadata": {},
   "outputs": [],
   "source": [
    "# run code and conversation layout will print\n",
    "\n",
    "class LobsterDates:\n",
    "\n",
    "    def __init__(self, greet, age, height, SwipeRight):\n",
    "        self.greet = greet\n",
    "        self.age = age\n",
    "        self.height = height\n",
    "        self.SwipeRight = SwipeRight\n",
    "\n",
    "    def print_SwipeRight(self):\n",
    "        print('Hello my name is ' + self.greet + '. I am ' + self.age + 'and ' + self.height + 'foot. ')\n",
    "    \n",
    "\n",
    "introduction = LobsterDates('Matthew', '21 ', '6 ', 'dates ')\n",
    "introduction.print_SwipeRight()\n",
    "\n",
    "respond = LobsterDates('Nadia', 'also 21 ', 'shorter than 6 ', 'dates ')\n",
    "respond.print_SwipeRight()\n",
    "\n",
    "\n",
    "\n",
    "\n",
    "date_night = 'Fun'\n",
    "\n",
    "if date_night == 'fun':\n",
    "    print('Matthew: you must go out with me')\n",
    "elif date_night == 'Fun':\n",
    "    print('Matthew: would you like to go out sometime?')\n",
    "else:\n",
    "    print('Matthew: you are not my type')\n",
    "\n",
    "\n",
    "\n",
    "\n",
    "date_night = 'Fun'\n",
    "\n",
    "print('Nadia: sure')\n",
    "\n",
    "if date_night == 'fun':\n",
    "    print('Nadia: never, leave me alone')\n",
    "elif date_night == 'Fun':\n",
    "    print('Nadia: but I have a curfew')\n",
    "\n",
    "print('Nadia: will that be a problem?')\n",
    "\n",
    "\n",
    "\n",
    "\n",
    "def response(options):\n",
    "    if (options % 5 == 0):\n",
    "        print('Matthew: yes it is')\n",
    "    else:\n",
    "        print('Matthew: no, not a problem!')\n",
    "    \n",
    "response(17)\n",
    "\n",
    "\n",
    "\n",
    "\n",
    "for curfew in range(11, 12):\n",
    "    print(curfew)\n",
    "\n",
    "    if (curfew <= 12):\n",
    "        print('Nadia: is the time I must be home by')\n",
    "\n",
    "\n",
    "\n",
    "def answer(please):\n",
    "    if (please % 7 == 0):\n",
    "        print('Matthew: Eh, that is too early.')\n",
    "    else:\n",
    "        print('Matthew: Great! I will pick you up at 8pm')\n",
    "\n",
    "answer(44)"
   ]
  },
  {
   "cell_type": "markdown",
   "metadata": {},
   "source": [
    "# This second cell below I have created is a chatbox. It includes options of an input to type down when the cell is ran and it will produce an output that meets the conditional. Ideally, you are supposed to input the message in the order that the cell presents it. For example, you will input the string 'hello!' before inputing 'my curfew is at 11pm' because that is the way conversations usually go. "
   ]
  },
  {
   "cell_type": "code",
   "execution_count": null,
   "metadata": {
    "scrolled": true
   },
   "outputs": [
    {
     "name": "stdout",
     "output_type": "stream",
     "text": [
      "INPUT :\thello!\n",
      "OUTPUT: hi, would you like to go out sometime?\n",
      "INPUT :\tyes\n",
      "OUTPUT: great, when works best for you?\n"
     ]
    }
   ],
   "source": [
    "import random\n",
    " # conversation is in order so input word after the conditional statements\n",
    " # for example: first input 'hello!' and then output will return as stated\n",
    "def have_a_chat():\n",
    "    chat = True\n",
    "    while chat:\n",
    "        msg = input('INPUT :\\t')\n",
    "        out_msg = None\n",
    "        input_string = msg\n",
    "        if 'hello!' in input_string:\n",
    "            question = True\n",
    "        else:\n",
    "            question = False\n",
    "        if 'yes' in input_string:\n",
    "            out_msg = 'great, when works best for you?'\n",
    "        if not out_msg and question:\n",
    "            out_msg = 'hi, would you like to go out sometime?'\n",
    "        if 'my curfew is at 11pm' in input_string:\n",
    "            statement = True\n",
    "        else:\n",
    "            statement = False\n",
    "        if not out_msg and statement:\n",
    "            out_msg = 'no worries! pick you up at 8pm?'\n",
    "        if 'sounds great' in input_string:\n",
    "            out_msg = 'awesome! I will let you know when I am outside!'\n",
    "        if not out_msg:\n",
    "            out_msg = random.choice(['yes', 'no', 'maybe'])        \n",
    "        \n",
    "        print('OUTPUT:', out_msg)\n",
    "\n",
    "have_a_chat()"
   ]
  }
 ],
 "metadata": {
  "kernelspec": {
   "display_name": "Python 3",
   "language": "python",
   "name": "python3"
  },
  "language_info": {
   "codemirror_mode": {
    "name": "ipython",
    "version": 3
   },
   "file_extension": ".py",
   "mimetype": "text/x-python",
   "name": "python",
   "nbconvert_exporter": "python",
   "pygments_lexer": "ipython3",
   "version": "3.7.3"
  }
 },
 "nbformat": 4,
 "nbformat_minor": 2
}
